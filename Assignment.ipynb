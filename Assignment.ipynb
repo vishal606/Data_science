{
  "nbformat": 4,
  "nbformat_minor": 0,
  "metadata": {
    "colab": {
      "provenance": [],
      "collapsed_sections": [
        "fOFK2t7KJGu4"
      ]
    },
    "kernelspec": {
      "name": "python3",
      "display_name": "Python 3"
    },
    "language_info": {
      "name": "python"
    }
  },
  "cells": [
    {
      "cell_type": "markdown",
      "source": [
        "**Assignment**\n",
        "\n"
      ],
      "metadata": {
        "id": "7lRbm1VC1aeC"
      }
    },
    {
      "cell_type": "markdown",
      "source": [
        "1. Write a program to print your information."
      ],
      "metadata": {
        "id": "fOFK2t7KJGu4"
      }
    },
    {
      "cell_type": "code",
      "source": [
        "print(\"Name: Bishal Paul\")\n",
        "print(\"Age: 25\")\n",
        "print(\"Address: Moulvibazar, Sylhet\")"
      ],
      "metadata": {
        "colab": {
          "base_uri": "https://localhost:8080/"
        },
        "id": "mQ9x7PVKJOoT",
        "outputId": "6226cdc8-4fd4-48b6-99c6-6096bc6f485a"
      },
      "execution_count": 2,
      "outputs": [
        {
          "output_type": "stream",
          "name": "stdout",
          "text": [
            "Name: Bishal Paul\n",
            "Age: 25\n",
            "Address: Moulvibazar, Sylhet\n"
          ]
        }
      ]
    },
    {
      "cell_type": "markdown",
      "source": [
        "2. Write a program to enter two numbers and perform all arithmetic operations."
      ],
      "metadata": {
        "id": "5nE1cpoXJmSn"
      }
    },
    {
      "cell_type": "code",
      "source": [
        "# Input two numbers from the user\n",
        "num1 = float(input(\"Enter the first number: \"))\n",
        "num2 = float(input(\"Enter the second number: \"))\n",
        "\n",
        "# Perform arithmetic operations\n",
        "sum_result = num1 + num2\n",
        "difference_result = num1 - num2\n",
        "product_result = num1 * num2\n",
        "division_result = num1 / num2\n",
        "modulus_result = num1 % num2\n",
        "\n",
        "# Display the results\n",
        "print(f\"Sum: {num1} + {num2} = {sum_result}\")\n",
        "print(f\"Difference: {num1} - {num2} = {difference_result}\")\n",
        "print(f\"Product: {num1} * {num2} = {product_result}\")\n",
        "print(f\"Division: {num1} / {num2} = {division_result}\")\n",
        "print(f\"Modulus: {num1} % {num2} = {modulus_result}\")\n"
      ],
      "metadata": {
        "colab": {
          "base_uri": "https://localhost:8080/"
        },
        "id": "kSHeJwN_JlIE",
        "outputId": "96e530f2-b803-4219-95c7-63780fe7529c"
      },
      "execution_count": 1,
      "outputs": [
        {
          "output_type": "stream",
          "name": "stdout",
          "text": [
            "Enter the first number: 10\n",
            "Enter the second number: 20\n",
            "Sum: 10.0 + 20.0 = 30.0\n",
            "Difference: 10.0 - 20.0 = -10.0\n",
            "Product: 10.0 * 20.0 = 200.0\n",
            "Division: 10.0 / 20.0 = 0.5\n",
            "Modulus: 10.0 % 20.0 = 10.0\n"
          ]
        }
      ]
    },
    {
      "cell_type": "markdown",
      "source": [
        "3. Write a program to enter the length, and breadth of a rectangle and find its perimeter and area."
      ],
      "metadata": {
        "id": "3bvr8VpLKc-l"
      }
    },
    {
      "cell_type": "code",
      "source": [
        "# Input length and breadth from the user\n",
        "length = float(input(\"Enter the length of the rectangle: \"))\n",
        "breadth = float(input(\"Enter the breadth of the rectangle: \"))\n",
        "\n",
        "# Calculate the perimeter and area\n",
        "perimeter = 2 * (length + breadth)\n",
        "area = length * breadth\n",
        "\n",
        "# Display the results\n",
        "print(f\"The perimeter of the rectangle is: {perimeter}\")\n",
        "print(f\"The area of the rectangle is: {area}\")"
      ],
      "metadata": {
        "colab": {
          "base_uri": "https://localhost:8080/"
        },
        "id": "12RG5U05KZYQ",
        "outputId": "14692fba-6fea-469f-81fb-9b8f55c4e778"
      },
      "execution_count": 2,
      "outputs": [
        {
          "output_type": "stream",
          "name": "stdout",
          "text": [
            "Enter the length of the rectangle: 20\n",
            "Enter the breadth of the rectangle: 25\n",
            "The perimeter of the rectangle is: 90.0\n",
            "The area of the rectangle is: 500.0\n"
          ]
        }
      ]
    },
    {
      "cell_type": "markdown",
      "source": [
        "4. Write a Program to calculate the area of an equilateral triangle."
      ],
      "metadata": {
        "id": "estFi3mHQk-l"
      }
    },
    {
      "cell_type": "code",
      "source": [
        "import math\n",
        "\n",
        "# Input the side length of the equilateral triangle from the user\n",
        "side_length = float(input(\"Enter the side length of the equilateral triangle: \"))\n",
        "\n",
        "# Calculate the area of the equilateral triangle\n",
        "area = (math.sqrt(3) / 4) * (side_length ** 2)\n",
        "\n",
        "# Display the result\n",
        "print(f\"The area of the equilateral triangle is: {area}\")"
      ],
      "metadata": {
        "colab": {
          "base_uri": "https://localhost:8080/"
        },
        "id": "RQ91uCf1P9Yi",
        "outputId": "97034934-0b25-4f9c-dc29-0d755a37e91c"
      },
      "execution_count": 3,
      "outputs": [
        {
          "output_type": "stream",
          "name": "stdout",
          "text": [
            "Enter the side length of the equilateral triangle: 20\n",
            "The area of the equilateral triangle is: 173.20508075688772\n"
          ]
        }
      ]
    },
    {
      "cell_type": "markdown",
      "source": [
        "5. Write a program to calculate the perimeter and area of a circle with a given radius."
      ],
      "metadata": {
        "id": "_8DrvqpdR8Tz"
      }
    },
    {
      "cell_type": "code",
      "source": [
        "import math\n",
        "\n",
        "radius = float(input(\"Enter the radius of the circle: \"))\n",
        "\n",
        "# Calculate the perimeter and area of the circle\n",
        "circumference = 2 * math.pi * radius\n",
        "area = math.pi * (radius ** 2)\n",
        "\n",
        "# Display the results\n",
        "print(f\"The circumference of the circle is: {circumference}\")\n",
        "print(f\"The area of the circle is: {area}\")"
      ],
      "metadata": {
        "colab": {
          "base_uri": "https://localhost:8080/"
        },
        "id": "argTxds9R5QG",
        "outputId": "aac1baae-6940-4ac0-dafc-1766bf714ab9"
      },
      "execution_count": 3,
      "outputs": [
        {
          "output_type": "stream",
          "name": "stdout",
          "text": [
            "Enter the radius of the circle: 20\n",
            "The circumference of the circle is: 125.66370614359172\n",
            "The area of the circle is: 1256.6370614359173\n"
          ]
        }
      ]
    },
    {
      "cell_type": "markdown",
      "source": [],
      "metadata": {
        "id": "kHT_e7-X1ZL-"
      }
    },
    {
      "cell_type": "markdown",
      "source": [
        "6. Write a program to find the third angle of a triangle if two angles are\n",
        "given.\n"
      ],
      "metadata": {
        "id": "wGDVaDe0SF3M"
      }
    },
    {
      "cell_type": "code",
      "source": [
        "# Input the two angles of the triangle\n",
        "angle1 = float(input(\"Enter the first angle in degrees: \"))\n",
        "angle2 = float(input(\"Enter the second angle in degrees: \"))\n",
        "\n",
        "# Calculate the third angle\n",
        "third_angle = 180 - (angle1 + angle2)\n",
        "\n",
        "# Check if the input angles form a valid triangle\n",
        "if third_angle > 0:\n",
        "    print(f\"The third angle of the triangle is {third_angle} degrees.\")\n",
        "else:\n",
        "    print(\"The input angles do not form a valid triangle.\")"
      ],
      "metadata": {
        "colab": {
          "base_uri": "https://localhost:8080/"
        },
        "id": "gZYz2LsiSCr7",
        "outputId": "d1b4e83f-073c-4fdb-f529-1e43b024a26e"
      },
      "execution_count": 4,
      "outputs": [
        {
          "output_type": "stream",
          "name": "stdout",
          "text": [
            "Enter the first angle in degrees: 30\n",
            "Enter the second angle in degrees: 40\n",
            "The third angle of the triangle is 110.0 degrees.\n"
          ]
        }
      ]
    },
    {
      "cell_type": "markdown",
      "source": [
        "7. Write a program that converts Centigrade to Fahrenheit"
      ],
      "metadata": {
        "id": "RFsHWdGv1rya"
      }
    },
    {
      "cell_type": "code",
      "source": [
        "# Input temperature in Centigrade (Celsius)\n",
        "celsius = float(input(\"Enter the temperature in Centigrade (Celsius): \"))\n",
        "\n",
        "# Convert Centigrade to Fahrenheit\n",
        "fahrenheit = (celsius * 9/5) + 32\n",
        "\n",
        "# Display the result\n",
        "print(f\"{celsius}°C is equal to {fahrenheit}°F\")\n"
      ],
      "metadata": {
        "colab": {
          "base_uri": "https://localhost:8080/"
        },
        "id": "BWvkDset1xbn",
        "outputId": "f096e4a1-a65d-44a9-86a1-0bab99d075ea"
      },
      "execution_count": 6,
      "outputs": [
        {
          "output_type": "stream",
          "name": "stdout",
          "text": [
            "Enter the temperature in Centigrade (Celsius): 35\n",
            "35.0°C is equal to 95.0°F\n"
          ]
        }
      ]
    },
    {
      "cell_type": "markdown",
      "source": [
        "7. Write a program that converts Fahrenheit to Centigrade"
      ],
      "metadata": {
        "id": "czUoO4bx1-wN"
      }
    },
    {
      "cell_type": "code",
      "source": [
        "# Input temperature in Fahrenheit\n",
        "fahrenheit = float(input(\"Enter the temperature in Fahrenheit (°F): \"))\n",
        "\n",
        "# Convert Fahrenheit to Centigrade (Celsius)\n",
        "celsius = (fahrenheit - 32) * 5/9\n",
        "\n",
        "# Display the result\n",
        "print(f\"{fahrenheit}°F is equal to {celsius}°C\")\n"
      ],
      "metadata": {
        "colab": {
          "base_uri": "https://localhost:8080/"
        },
        "id": "5WbVIq2K2CrH",
        "outputId": "078044e7-9894-4675-b07e-2b4d5b402aff"
      },
      "execution_count": 7,
      "outputs": [
        {
          "output_type": "stream",
          "name": "stdout",
          "text": [
            "Enter the temperature in Fahrenheit (°F): 108\n",
            "108.0°F is equal to 42.22222222222222°C\n"
          ]
        }
      ]
    },
    {
      "cell_type": "markdown",
      "source": [
        "9. Write a Program to enter marks of five subjects and calculate the total, average, and percentage."
      ],
      "metadata": {
        "id": "MNSsnKaz2J4X"
      }
    },
    {
      "cell_type": "code",
      "source": [
        "# Input marks for five subjects\n",
        "subject1 = float(input(\"Enter marks for Subject 1: \"))\n",
        "subject2 = float(input(\"Enter marks for Subject 2: \"))\n",
        "subject3 = float(input(\"Enter marks for Subject 3: \"))\n",
        "subject4 = float(input(\"Enter marks for Subject 4: \"))\n",
        "subject5 = float(input(\"Enter marks for Subject 5: \"))\n",
        "\n",
        "# Calculate the total marks\n",
        "total_marks = subject1 + subject2 + subject3 + subject4 + subject5\n",
        "\n",
        "# Calculate the average marks\n",
        "average_marks = total_marks / 5\n",
        "\n",
        "# Calculate the percentage\n",
        "max_marks_per_subject = 100  # Assuming each subject has a maximum of 100 marks\n",
        "total_max_marks = max_marks_per_subject * 5  # Total maximum marks for all subjects\n",
        "percentage = (total_marks / total_max_marks) * 100\n",
        "\n",
        "# Display the results\n",
        "print(\"Total Marks:\", total_marks)\n",
        "print(\"Average Marks:\", average_marks)\n",
        "print(\"Percentage:\", percentage, \"%\")\n"
      ],
      "metadata": {
        "id": "esHh-q7z2P9g"
      },
      "execution_count": null,
      "outputs": []
    },
    {
      "cell_type": "markdown",
      "source": [
        "10. Write a Program to enter P, T, and R and calculate simple interest.\n",
        "\n",
        "\n",
        "Simple Interest (SI) = (Principal Amount (P) * Time (T) * Rate (R)) / 100\n"
      ],
      "metadata": {
        "id": "QH24mgB_2W0w"
      }
    },
    {
      "cell_type": "code",
      "source": [
        "# Input Principal Amount (P)\n",
        "P = float(input(\"Enter the Principal Amount (P): \"))\n",
        "\n",
        "# Input Time (T) in years\n",
        "T = float(input(\"Enter the Time (T) in years: \"))\n",
        "\n",
        "# Input Rate of Interest (R)\n",
        "R = float(input(\"Enter the Rate of Interest (R): \"))\n",
        "\n",
        "# Calculate Simple Interest (SI)\n",
        "SI = (P * T * R) / 100\n",
        "\n",
        "# Display the Simple Interest\n",
        "print(\"Simple Interest (SI) is:\", SI)\n"
      ],
      "metadata": {
        "colab": {
          "base_uri": "https://localhost:8080/"
        },
        "id": "s8hrNEpE2fmV",
        "outputId": "52c3f550-616a-4204-f4bd-892bb2142586"
      },
      "execution_count": 8,
      "outputs": [
        {
          "output_type": "stream",
          "name": "stdout",
          "text": [
            "Enter the Principal Amount (P): 10\n",
            "Enter the Time (T) in years: 5\n",
            "Enter the Rate of Interest (R): 15\n",
            "Simple Interest (SI) is: 7.5\n"
          ]
        }
      ]
    },
    {
      "cell_type": "markdown",
      "source": [
        "11. Write a Program to enter P, T, and R and calculate compound interest.\n",
        "\n",
        "Compound Interest (CI) = P * (1 + (R / 100)) ** T - P"
      ],
      "metadata": {
        "id": "bTMMuW6n3IK3"
      }
    },
    {
      "cell_type": "code",
      "source": [
        "# Input Principal Amount (P)\n",
        "P = float(input(\"Enter the Principal Amount (P): \"))\n",
        "\n",
        "# Input Time (T) in years\n",
        "T = float(input(\"Enter the Time (T) in years: \"))\n",
        "\n",
        "# Input Rate of Interest (R)\n",
        "R = float(input(\"Enter the Rate of Interest (R): \"))\n",
        "\n",
        "# Calculate Compound Interest (CI)\n",
        "CI = P * (1 + (R / 100)) ** T - P\n",
        "\n",
        "# Display the Compound Interest\n",
        "print(\"Compound Interest (CI) is:\", CI)\n"
      ],
      "metadata": {
        "colab": {
          "base_uri": "https://localhost:8080/"
        },
        "id": "igBTJIQl3JRL",
        "outputId": "d3f350ff-ea92-4996-d57c-be48f16772fb"
      },
      "execution_count": 9,
      "outputs": [
        {
          "output_type": "stream",
          "name": "stdout",
          "text": [
            "Enter the Principal Amount (P): 2000\n",
            "Enter the Time (T) in years: 5\n",
            "Enter the Rate of Interest (R): 5\n",
            "Compound Interest (CI) is: 552.5631250000006\n"
          ]
        }
      ]
    },
    {
      "cell_type": "markdown",
      "source": [
        "12. Write a Program that takes minutes as input and displays the total number of hours and minutes.\n"
      ],
      "metadata": {
        "id": "ZjRyy5mk3wYq"
      }
    },
    {
      "cell_type": "code",
      "source": [
        "# Input the number of minutes\n",
        "minutes = int(input(\"Enter the number of minutes: \"))\n",
        "\n",
        "# Calculate the total hours and remaining minutes\n",
        "hours = minutes // 60\n",
        "remaining_minutes = minutes % 60\n",
        "\n",
        "# Display the result\n",
        "print(f\"Total hours: {hours}\")\n",
        "print(f\"Remaining minutes: {remaining_minutes}\")\n"
      ],
      "metadata": {
        "colab": {
          "base_uri": "https://localhost:8080/"
        },
        "id": "00GTTcSK3xdB",
        "outputId": "5501e608-0a60-4edf-bd70-a4feb7cf0a6e"
      },
      "execution_count": 11,
      "outputs": [
        {
          "output_type": "stream",
          "name": "stdout",
          "text": [
            "Enter the number of minutes: 60\n",
            "Total hours: 1\n",
            "Remaining minutes: 0\n"
          ]
        }
      ]
    },
    {
      "cell_type": "markdown",
      "source": [
        "13. Write a program to convert specified days into years, weeks and the rest of the days."
      ],
      "metadata": {
        "id": "Tz1CLAiS4BE0"
      }
    },
    {
      "cell_type": "code",
      "source": [
        "# Input the number of days\n",
        "days = int(input(\"Enter the number of days: \"))\n",
        "\n",
        "# Calculate years, weeks, and remaining days\n",
        "years = days // 365\n",
        "remaining_days = days % 365\n",
        "weeks = remaining_days // 7\n",
        "remaining_days = remaining_days % 7\n",
        "\n",
        "# Display the result\n",
        "print(f\"{days} days is equivalent to:\")\n",
        "print(f\"Years: {years}\")\n",
        "print(f\"Weeks: {weeks}\")\n",
        "print(f\"Remaining days: {remaining_days}\")\n"
      ],
      "metadata": {
        "colab": {
          "base_uri": "https://localhost:8080/"
        },
        "id": "iJpHidoh4C5e",
        "outputId": "05fa8053-d178-4ba9-de80-3f7101c288c9"
      },
      "execution_count": 13,
      "outputs": [
        {
          "output_type": "stream",
          "name": "stdout",
          "text": [
            "Enter the number of days: 300\n",
            "300 days is equivalent to:\n",
            "Years: 0\n",
            "Weeks: 42\n",
            "Remaining days: 6\n"
          ]
        }
      ]
    },
    {
      "cell_type": "markdown",
      "source": [
        "14. Write a program to find the power of any number x ^ y."
      ],
      "metadata": {
        "id": "mTY4QVZQ4PND"
      }
    },
    {
      "cell_type": "code",
      "source": [
        "# Input the base (x) and exponent (y)\n",
        "x = float(input(\"Enter the base (x): \"))\n",
        "y = int(input(\"Enter the exponent (y): \"))\n",
        "\n",
        "# Initialize the result to 1\n",
        "result = 1\n",
        "\n",
        "# Calculate x^y using a loop\n",
        "for _ in range(y):\n",
        "    result *= x\n",
        "\n",
        "# Display the result\n",
        "print(f\"{x}^{y} is equal to {result}\")\n"
      ],
      "metadata": {
        "colab": {
          "base_uri": "https://localhost:8080/"
        },
        "id": "M3p5T_r44FxD",
        "outputId": "6f58a0a1-5f22-49b4-c9ba-98955f511fd0"
      },
      "execution_count": 16,
      "outputs": [
        {
          "output_type": "stream",
          "name": "stdout",
          "text": [
            "Enter the base (x): 4\n",
            "Enter the exponent (y): 2\n",
            "4.0^2 is equal to 16.0\n"
          ]
        }
      ]
    },
    {
      "cell_type": "markdown",
      "source": [
        "15. Write a program to enter any number and calculate its square root.\n"
      ],
      "metadata": {
        "id": "DsriBy7R4T-N"
      }
    },
    {
      "cell_type": "code",
      "source": [
        "import math\n",
        "\n",
        "# Input the number for which you want to calculate the square root\n",
        "number = float(input(\"Enter a number: \"))\n",
        "\n",
        "# Calculate the square root\n",
        "square_root = math.sqrt(number)\n",
        "\n",
        "# Display the result\n",
        "print(f\"The square root of {number} is {square_root:.2f}\")\n"
      ],
      "metadata": {
        "colab": {
          "base_uri": "https://localhost:8080/"
        },
        "id": "u-BzWOKk4Zlj",
        "outputId": "9e2100c0-3f80-4e5e-e31c-c6d1a799caa9"
      },
      "execution_count": 17,
      "outputs": [
        {
          "output_type": "stream",
          "name": "stdout",
          "text": [
            "Enter a number: 12\n",
            "The square root of 12.0 is 3.46\n"
          ]
        }
      ]
    },
    {
      "cell_type": "markdown",
      "source": [
        "16. Write a program to find the maximum between two numbers"
      ],
      "metadata": {
        "id": "K09__7v54w6W"
      }
    },
    {
      "cell_type": "code",
      "source": [
        "# Input two numbers\n",
        "num1 = float(input(\"Enter the first number: \"))\n",
        "num2 = float(input(\"Enter the second number: \"))\n",
        "\n",
        "# Compare the two numbers and find the maximum\n",
        "if num1 > num2:\n",
        "    maximum = num1\n",
        "else:\n",
        "    maximum = num2\n",
        "\n",
        "# Display the maximum number\n",
        "print(f\"The maximum number between {num1} and {num2} is {maximum}\")\n"
      ],
      "metadata": {
        "colab": {
          "base_uri": "https://localhost:8080/"
        },
        "id": "nx1ya09k40Lw",
        "outputId": "a401d274-c5ac-40d8-bc7a-635586bc17c3"
      },
      "execution_count": 18,
      "outputs": [
        {
          "output_type": "stream",
          "name": "stdout",
          "text": [
            "Enter the first number: 55\n",
            "Enter the second number: 6\n",
            "The maximum number between 55.0 and 6.0 is 55.0\n"
          ]
        }
      ]
    },
    {
      "cell_type": "markdown",
      "source": [
        "17. Write a program to find the maximum between three numbers"
      ],
      "metadata": {
        "id": "TickOD3v490_"
      }
    },
    {
      "cell_type": "code",
      "source": [
        "# Input three numbers\n",
        "num1 = float(input(\"Enter the first number: \"))\n",
        "num2 = float(input(\"Enter the second number: \"))\n",
        "num3 = float(input(\"Enter the third number: \"))\n",
        "\n",
        "# Compare the three numbers to find the maximum\n",
        "if num1 >= num2 and num1 >= num3:\n",
        "    maximum = num1\n",
        "elif num2 >= num1 and num2 >= num3:\n",
        "    maximum = num2\n",
        "else:\n",
        "    maximum = num3\n",
        "\n",
        "# Display the maximum number\n",
        "print(f\"The maximum number among {num1}, {num2}, and {num3} is {maximum}\")\n"
      ],
      "metadata": {
        "colab": {
          "base_uri": "https://localhost:8080/"
        },
        "id": "QwVdTHFp5DJ9",
        "outputId": "e3e598ab-708d-4a4e-8a4f-c4effa54342f"
      },
      "execution_count": 19,
      "outputs": [
        {
          "output_type": "stream",
          "name": "stdout",
          "text": [
            "Enter the first number: 3\n",
            "Enter the second number: 4\n",
            "Enter the third number: 5\n",
            "The maximum number among 3.0, 4.0, and 5.0 is 5.0\n"
          ]
        }
      ]
    },
    {
      "cell_type": "markdown",
      "source": [
        "18. Write a program to check whether a number is even or odd."
      ],
      "metadata": {
        "id": "OfHtYG5w5P67"
      }
    },
    {
      "cell_type": "code",
      "source": [
        "# Input a number\n",
        "number = int(input(\"Enter a number: \"))\n",
        "\n",
        "# Check if the number is even or odd\n",
        "if number % 2 == 0:\n",
        "    print(f\"{number} is an even number.\")\n",
        "else:\n",
        "    print(f\"{number} is an odd number.\")\n"
      ],
      "metadata": {
        "colab": {
          "base_uri": "https://localhost:8080/"
        },
        "id": "3PeWt0Q65IIk",
        "outputId": "3c34ee38-0177-4e3e-9f28-415d4deeb70b"
      },
      "execution_count": 20,
      "outputs": [
        {
          "output_type": "stream",
          "name": "stdout",
          "text": [
            "Enter a number: 2\n",
            "2 is an even number.\n"
          ]
        }
      ]
    },
    {
      "cell_type": "markdown",
      "source": [
        "19. Write a program to check whether a number is negative,\n",
        "positive, or zero."
      ],
      "metadata": {
        "id": "aHY5biTK5byH"
      }
    },
    {
      "cell_type": "code",
      "source": [
        "# Input a number\n",
        "number = float(input(\"Enter a number: \"))\n",
        "\n",
        "# Check whether the number is negative, positive, or zero\n",
        "if number < 0:\n",
        "    print(f\"{number} is a negative number.\")\n",
        "elif number > 0:\n",
        "    print(f\"{number} is a positive number.\")\n",
        "else:\n",
        "    print(f\"{number} is zero.\")\n"
      ],
      "metadata": {
        "colab": {
          "base_uri": "https://localhost:8080/"
        },
        "id": "DEyCtRBm5doh",
        "outputId": "1427ef45-08df-4c6f-f343-25e9f188cb4e"
      },
      "execution_count": 21,
      "outputs": [
        {
          "output_type": "stream",
          "name": "stdout",
          "text": [
            "Enter a number: 5\n",
            "5.0 is a positive number.\n"
          ]
        }
      ]
    },
    {
      "cell_type": "markdown",
      "source": [
        " 20. Write a program to check whether a number is divisible by 5 or\n",
        " 11 or not\n"
      ],
      "metadata": {
        "id": "c5_Ag1_Y5mXk"
      }
    },
    {
      "cell_type": "code",
      "source": [
        "# Input a number\n",
        "number = int(input(\"Enter a number: \"))\n",
        "\n",
        "# Check if the number is divisible by 5 or 11\n",
        "if number % 5 == 0 and number % 11 == 0:\n",
        "    print(f\"{number} is divisible by both 5 and 11.\")\n",
        "elif number % 5 == 0:\n",
        "    print(f\"{number} is divisible by 5 but not by 11.\")\n",
        "elif number % 11 == 0:\n",
        "    print(f\"{number} is divisible by 11 but not by 5.\")\n",
        "else:\n",
        "    print(f\"{number} is neither divisible by 5 nor by 11.\")\n"
      ],
      "metadata": {
        "colab": {
          "base_uri": "https://localhost:8080/"
        },
        "id": "b0eimuk-5hXK",
        "outputId": "8b66a044-ec48-4aae-ef03-974f69bac9cd"
      },
      "execution_count": 22,
      "outputs": [
        {
          "output_type": "stream",
          "name": "stdout",
          "text": [
            "Enter a number: 10\n",
            "10 is divisible by 5 but not by 11.\n"
          ]
        }
      ]
    },
    {
      "cell_type": "markdown",
      "source": [
        " 21. Write a program to check whether you are eligible to make a\n",
        " NID Card or not."
      ],
      "metadata": {
        "id": "4WghZpKI50Lr"
      }
    },
    {
      "cell_type": "code",
      "source": [
        "# Input the age\n",
        "age = int(input(\"Enter your age: \"))\n",
        "\n",
        "# Check eligibility based on age\n",
        "if age >= 18:\n",
        "    print(\"You are eligible to apply for a NID card.\")\n",
        "else:\n",
        "    print(\"You are not eligible to apply for a NID card yet.\")\n"
      ],
      "metadata": {
        "colab": {
          "base_uri": "https://localhost:8080/"
        },
        "id": "NQn5yHXb5v0A",
        "outputId": "c6b8f5c2-371e-488b-deed-e4e71ad362bf"
      },
      "execution_count": 23,
      "outputs": [
        {
          "output_type": "stream",
          "name": "stdout",
          "text": [
            "Enter your age: 20\n",
            "You are eligible to apply for a NID card.\n"
          ]
        }
      ]
    },
    {
      "cell_type": "markdown",
      "source": [
        "\n",
        "22. Write a program to check whether the year is a leap year or not."
      ],
      "metadata": {
        "id": "0GFWZnVp6C4d"
      }
    },
    {
      "cell_type": "code",
      "source": [
        "# Input a year\n",
        "year = int(input(\"Enter a year: \"))\n",
        "\n",
        "# Check if the year is a leap year\n",
        "if (year % 4 == 0 and year % 100 != 0) or (year % 400 == 0):\n",
        "    print(f\"{year} is a leap year.\")\n",
        "else:\n",
        "    print(f\"{year} is not a leap year.\")\n"
      ],
      "metadata": {
        "colab": {
          "base_uri": "https://localhost:8080/"
        },
        "id": "iQl0jeQk5-c2",
        "outputId": "746d1f58-d7b7-46e8-abef-ccca553a93ff"
      },
      "execution_count": 24,
      "outputs": [
        {
          "output_type": "stream",
          "name": "stdout",
          "text": [
            "Enter a year: 2023\n",
            "2023 is not a leap year.\n"
          ]
        }
      ]
    },
    {
      "cell_type": "markdown",
      "source": [
        "23. Write a program which can detect if the alaphabet is vowel or consonant."
      ],
      "metadata": {
        "id": "ROASn_D06Mbo"
      }
    },
    {
      "cell_type": "code",
      "source": [
        "# Input a character (assuming it's a single alphabet character)\n",
        "char = input(\"Enter a character: \")\n",
        "\n",
        "# Convert the input character to lowercase to handle both uppercase and lowercase input\n",
        "char = char.lower()\n",
        "\n",
        "# Check if the character is a vowel or a consonant\n",
        "if char in ('a', 'e', 'i', 'o', 'u'):\n",
        "    print(f\"{char} is a vowel.\")\n",
        "else:\n",
        "    print(f\"{char} is a consonant.\")\n"
      ],
      "metadata": {
        "colab": {
          "base_uri": "https://localhost:8080/"
        },
        "id": "dlBLwvCq6I_W",
        "outputId": "4fcf874e-f8eb-4815-eb5a-6c73bcf8380e"
      },
      "execution_count": 25,
      "outputs": [
        {
          "output_type": "stream",
          "name": "stdout",
          "text": [
            "Enter a character: Bishal\n",
            "bishal is a consonant.\n"
          ]
        }
      ]
    },
    {
      "cell_type": "markdown",
      "source": [
        "24. Write a program to input the angles of a triangle and check whether a triangle is valid or not"
      ],
      "metadata": {
        "id": "44pxOlAS6VwA"
      }
    },
    {
      "cell_type": "code",
      "source": [
        "# Input the three angles of the triangle\n",
        "angle1 = float(input(\"Enter the first angle in degrees: \"))\n",
        "angle2 = float(input(\"Enter the second angle in degrees: \"))\n",
        "angle3 = float(input(\"Enter the third angle in degrees: \"))\n",
        "\n",
        "# Check if the sum of angles is equal to 180 degrees\n",
        "if angle1 + angle2 + angle3 == 180:\n",
        "    print(\"The triangle is valid.\")\n",
        "else:\n",
        "    print(\"The triangle is not valid.\")\n",
        "20"
      ],
      "metadata": {
        "colab": {
          "base_uri": "https://localhost:8080/"
        },
        "id": "JoL7A1FE6Qf7",
        "outputId": "06ae0e7f-23aa-42e4-962c-df6671cf49a8"
      },
      "execution_count": 30,
      "outputs": [
        {
          "output_type": "stream",
          "name": "stdout",
          "text": [
            "Enter the first angle in degrees: 50\n",
            "Enter the second angle in degrees: 60\n",
            "Enter the third angle in degrees: 70\n",
            "The triangle is valid.\n"
          ]
        },
        {
          "output_type": "execute_result",
          "data": {
            "text/plain": [
              "20"
            ]
          },
          "metadata": {},
          "execution_count": 30
        }
      ]
    },
    {
      "cell_type": "markdown",
      "source": [
        "25. Write a program to find the eligibility for admission to a professional course base on the following criteria:\n",
        "Marks in MATHS >= 65 Marks in PHY >= 55 Marks in CHEM >= 50 Or,\n",
        "Total in all three subjects => 180 Or,\n",
        "Total in Math and physics >=140."
      ],
      "metadata": {
        "id": "jr0F4ceK6zk6"
      }
    },
    {
      "cell_type": "code",
      "source": [
        "# Input marks in Math, Physics, and Chemistry\n",
        "math_marks = int(input(\"Enter marks in Math: \"))\n",
        "physics_marks = int(input(\"Enter marks in Physics: \"))\n",
        "chemistry_marks = int(input(\"Enter marks in Chemistry: \"))\n",
        "\n",
        "# Calculate the total marks in all three subjects\n",
        "total_marks = math_marks + physics_marks + chemistry_marks\n",
        "\n",
        "# Check eligibility based on the criteria\n",
        "if math_marks >= 65 and physics_marks >= 55 and chemistry_marks >= 50:\n",
        "    print(\"Eligible for admission.\")\n",
        "elif total_marks >= 180:\n",
        "    print(\"Eligible for admission.\")\n",
        "elif math_marks + physics_marks >= 140:\n",
        "    print(\"Eligible for admission.\")\n",
        "else:\n",
        "    print(\"Not eligible for admission.\")\n"
      ],
      "metadata": {
        "colab": {
          "base_uri": "https://localhost:8080/"
        },
        "id": "ltSGagXA6e0D",
        "outputId": "567d25d9-77dc-42ce-fe1d-8b9f91eeecd2"
      },
      "execution_count": 31,
      "outputs": [
        {
          "output_type": "stream",
          "name": "stdout",
          "text": [
            "Enter marks in Math: 80\n",
            "Enter marks in Physics: 90\n",
            "Enter marks in Chemistry: 70\n",
            "Eligible for admission.\n"
          ]
        }
      ]
    },
    {
      "cell_type": "markdown",
      "source": [
        "26. Write a program to read the temperature in centigrade and display a suitable message according to the temperature state below:\n",
        "Temp < 0 then Freezing weather Temp 0-10 then very cold weather Temp 10-20 then cold weather Temp 20-30 then Normal in Temp Temp 30-40 then it’s hot\n",
        "Temp >=40 then it’s very hot."
      ],
      "metadata": {
        "id": "o9hVPmbk6_pa"
      }
    },
    {
      "cell_type": "code",
      "source": [
        "# Input the temperature in degrees Celsius\n",
        "temperature = float(input(\"Enter the temperature in degrees Celsius: \"))\n",
        "\n",
        "# Check the temperature state and display a message\n",
        "if temperature < 0:\n",
        "    print(\"Freezing weather\")\n",
        "elif temperature >= 0 and temperature < 10:\n",
        "    print(\"Very cold weather\")\n",
        "elif temperature >= 10 and temperature < 20:\n",
        "    print(\"Cold weather\")\n",
        "elif temperature >= 20 and temperature < 30:\n",
        "    print(\"Normal in Temp\")\n",
        "elif temperature >= 30 and temperature < 40:\n",
        "    print(\"It's hot\")\n",
        "else:\n",
        "    print(\"It's very hot\")\n"
      ],
      "metadata": {
        "colab": {
          "base_uri": "https://localhost:8080/"
        },
        "id": "MQWtXE5565mc",
        "outputId": "cccf3911-ad61-4f4d-cc3b-08892423c4bf"
      },
      "execution_count": 32,
      "outputs": [
        {
          "output_type": "stream",
          "name": "stdout",
          "text": [
            "Enter the temperature in degrees Celsius: 35\n",
            "It's hot\n"
          ]
        }
      ]
    },
    {
      "cell_type": "markdown",
      "source": [
        "\n",
        "27. Write a program to read four values a, b, c, and d from the\n",
        "and evaluate the value of (a+b) to (c-d), and print the result, if c-d is not equal to zero."
      ],
      "metadata": {
        "id": "ju7Gk6N07KSs"
      }
    },
    {
      "cell_type": "code",
      "source": [
        "# Input four values\n",
        "a = float(input(\"Enter the value of 'a': \"))\n",
        "b = float(input(\"Enter the value of 'b': \"))\n",
        "c = float(input(\"Enter the value of 'c': \"))\n",
        "d = float(input(\"Enter the value of 'd': \"))\n",
        "\n",
        "# Check if c - d is not equal to zero\n",
        "if c - d != 0:\n",
        "    result = (a + b) / (c - d)\n",
        "    print(f\"The result of ({a} + {b}) / ({c} - {d}) is: {result}\")\n",
        "else:\n",
        "    print(\"Cannot evaluate the expression because (c - d) is zero.\")\n"
      ],
      "metadata": {
        "colab": {
          "base_uri": "https://localhost:8080/"
        },
        "id": "CxyxgXuL7Lco",
        "outputId": "caa8cfca-ba20-438a-9404-56e2d4a531eb"
      },
      "execution_count": 33,
      "outputs": [
        {
          "output_type": "stream",
          "name": "stdout",
          "text": [
            "Enter the value of 'a': 10\n",
            "Enter the value of 'b': 20\n",
            "Enter the value of 'c': 30\n",
            "Enter the value of 'd': 40\n",
            "The result of (10.0 + 20.0) / (30.0 - 40.0) is: -3.0\n"
          ]
        }
      ]
    },
    {
      "cell_type": "markdown",
      "source": [
        "28.Writeaprogramthattakestheintegernumberofastudentand finds out\n",
        "the grade using a switch case statement following the A = 90-100\n",
        "B+ = 87-89 B = 84-86\n",
        "B- = 80-83 C+ = 77-79 C = 74-76\n",
        "C- = 70-73 D+ = 65-69 D = 60-64\n",
        "F = Below 60\n",
        "grading system."
      ],
      "metadata": {
        "id": "WOQyLLFL7WUC"
      }
    },
    {
      "cell_type": "code",
      "source": [
        "# Input the integer number representing the student's score\n",
        "score = int(input(\"Enter the student's score: \"))\n",
        "\n",
        "# Define a dictionary to map score ranges to grades\n",
        "grade_mapping = {\n",
        "    (90, 100): 'A',\n",
        "    (87, 89): 'B+',\n",
        "    (84, 86): 'B',\n",
        "    (80, 83): 'B-',\n",
        "    (77, 79): 'C+',\n",
        "    (74, 76): 'C',\n",
        "    (70, 73): 'C-',\n",
        "    (65, 69): 'D+',\n",
        "    (60, 64): 'D',\n",
        "}\n",
        "\n",
        "# Default grade\n",
        "grade = 'F'\n",
        "\n",
        "# Determine the grade using the dictionary\n",
        "for score_range, grade_value in grade_mapping.items():\n",
        "    if score_range[0] <= score <= score_range[1]:\n",
        "        grade = grade_value\n",
        "        break\n",
        "\n",
        "# Display the grade\n",
        "print(f\"The student's grade is: {grade}\")\n"
      ],
      "metadata": {
        "colab": {
          "base_uri": "https://localhost:8080/"
        },
        "id": "F-9JLWf87P0t",
        "outputId": "793938c0-40db-4ba8-a272-108bfc5ed381"
      },
      "execution_count": 34,
      "outputs": [
        {
          "output_type": "stream",
          "name": "stdout",
          "text": [
            "Enter the student's score: 90\n",
            "The student's grade is: A\n"
          ]
        }
      ]
    },
    {
      "cell_type": "markdown",
      "source": [
        "29. Write a program to find the sum of all even numbers between 1 to n."
      ],
      "metadata": {
        "id": "L20Qm0J57gfE"
      }
    },
    {
      "cell_type": "code",
      "source": [
        "# Input a positive integer 'n'\n",
        "n = int(input(\"Enter a positive integer 'n': \"))\n",
        "\n",
        "# Initialize the sum to 0\n",
        "even_sum = 0\n",
        "\n",
        "# Calculate the sum of even numbers from 2 to 'n'\n",
        "for number in range(2, n + 1, 2):\n",
        "    even_sum += number\n",
        "\n",
        "# Display the sum of even numbers\n",
        "print(f\"The sum of even numbers from 2 to {n} is: {even_sum}\")\n"
      ],
      "metadata": {
        "colab": {
          "base_uri": "https://localhost:8080/"
        },
        "id": "zAn6XvKQ7c_V",
        "outputId": "c2ff36f1-4974-412e-d606-d5cfa06def98"
      },
      "execution_count": 35,
      "outputs": [
        {
          "output_type": "stream",
          "name": "stdout",
          "text": [
            "Enter a positive integer 'n': 20\n",
            "The sum of even numbers from 2 to 20 is: 110\n"
          ]
        }
      ]
    },
    {
      "cell_type": "markdown",
      "source": [
        "30. Write a program to find the last digit of a given number."
      ],
      "metadata": {
        "id": "lLNiyLUy7pqb"
      }
    },
    {
      "cell_type": "code",
      "source": [
        "# Input a number\n",
        "number = int(input(\"Enter a number: \"))\n",
        "\n",
        "# Calculate the last digit\n",
        "last_digit = number % 10\n",
        "\n",
        "# Display the last digit\n",
        "print(f\"The last digit of {number} is: {last_digit}\")\n"
      ],
      "metadata": {
        "colab": {
          "base_uri": "https://localhost:8080/"
        },
        "id": "R2fTvAxl7qgN",
        "outputId": "17222d9a-2f96-4523-8823-4c7c1ff4aa6a"
      },
      "execution_count": 38,
      "outputs": [
        {
          "output_type": "stream",
          "name": "stdout",
          "text": [
            "Enter a number: 3238239\n",
            "The last digit of 3238239 is: 9\n"
          ]
        }
      ]
    }
  ]
}